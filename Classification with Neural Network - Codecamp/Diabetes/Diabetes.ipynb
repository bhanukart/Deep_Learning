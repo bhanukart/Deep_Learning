{
 "cells": [
  {
   "cell_type": "code",
   "execution_count": 1,
   "id": "a61887b7",
   "metadata": {},
   "outputs": [],
   "source": [
    "import pandas as pd\n",
    "import numpy as np\n",
    "import matplotlib.pyplot as plt\n",
    "%matplotlib inline"
   ]
  },
  {
   "cell_type": "code",
   "execution_count": 2,
   "id": "14fdf5d6",
   "metadata": {},
   "outputs": [
    {
     "data": {
      "text/html": [
       "<div>\n",
       "<style scoped>\n",
       "    .dataframe tbody tr th:only-of-type {\n",
       "        vertical-align: middle;\n",
       "    }\n",
       "\n",
       "    .dataframe tbody tr th {\n",
       "        vertical-align: top;\n",
       "    }\n",
       "\n",
       "    .dataframe thead th {\n",
       "        text-align: right;\n",
       "    }\n",
       "</style>\n",
       "<table border=\"1\" class=\"dataframe\">\n",
       "  <thead>\n",
       "    <tr style=\"text-align: right;\">\n",
       "      <th></th>\n",
       "      <th>Pregnancies</th>\n",
       "      <th>Glucose</th>\n",
       "      <th>BloodPressure</th>\n",
       "      <th>SkinThickness</th>\n",
       "      <th>Insulin</th>\n",
       "      <th>BMI</th>\n",
       "      <th>DiabetesPedigreeFunction</th>\n",
       "      <th>Age</th>\n",
       "      <th>Outcome</th>\n",
       "    </tr>\n",
       "  </thead>\n",
       "  <tbody>\n",
       "    <tr>\n",
       "      <th>0</th>\n",
       "      <td>6</td>\n",
       "      <td>148</td>\n",
       "      <td>72</td>\n",
       "      <td>35</td>\n",
       "      <td>0</td>\n",
       "      <td>33.6</td>\n",
       "      <td>0.627</td>\n",
       "      <td>50</td>\n",
       "      <td>1</td>\n",
       "    </tr>\n",
       "    <tr>\n",
       "      <th>1</th>\n",
       "      <td>1</td>\n",
       "      <td>85</td>\n",
       "      <td>66</td>\n",
       "      <td>29</td>\n",
       "      <td>0</td>\n",
       "      <td>26.6</td>\n",
       "      <td>0.351</td>\n",
       "      <td>31</td>\n",
       "      <td>0</td>\n",
       "    </tr>\n",
       "    <tr>\n",
       "      <th>2</th>\n",
       "      <td>8</td>\n",
       "      <td>183</td>\n",
       "      <td>64</td>\n",
       "      <td>0</td>\n",
       "      <td>0</td>\n",
       "      <td>23.3</td>\n",
       "      <td>0.672</td>\n",
       "      <td>32</td>\n",
       "      <td>1</td>\n",
       "    </tr>\n",
       "    <tr>\n",
       "      <th>3</th>\n",
       "      <td>1</td>\n",
       "      <td>89</td>\n",
       "      <td>66</td>\n",
       "      <td>23</td>\n",
       "      <td>94</td>\n",
       "      <td>28.1</td>\n",
       "      <td>0.167</td>\n",
       "      <td>21</td>\n",
       "      <td>0</td>\n",
       "    </tr>\n",
       "    <tr>\n",
       "      <th>4</th>\n",
       "      <td>0</td>\n",
       "      <td>137</td>\n",
       "      <td>40</td>\n",
       "      <td>35</td>\n",
       "      <td>168</td>\n",
       "      <td>43.1</td>\n",
       "      <td>2.288</td>\n",
       "      <td>33</td>\n",
       "      <td>1</td>\n",
       "    </tr>\n",
       "  </tbody>\n",
       "</table>\n",
       "</div>"
      ],
      "text/plain": [
       "   Pregnancies  Glucose  BloodPressure  SkinThickness  Insulin   BMI  \\\n",
       "0            6      148             72             35        0  33.6   \n",
       "1            1       85             66             29        0  26.6   \n",
       "2            8      183             64              0        0  23.3   \n",
       "3            1       89             66             23       94  28.1   \n",
       "4            0      137             40             35      168  43.1   \n",
       "\n",
       "   DiabetesPedigreeFunction  Age  Outcome  \n",
       "0                     0.627   50        1  \n",
       "1                     0.351   31        0  \n",
       "2                     0.672   32        1  \n",
       "3                     0.167   21        0  \n",
       "4                     2.288   33        1  "
      ]
     },
     "execution_count": 2,
     "metadata": {},
     "output_type": "execute_result"
    }
   ],
   "source": [
    "df = pd.read_csv('diabetes.csv')\n",
    "df.head()"
   ]
  },
  {
   "cell_type": "code",
   "execution_count": 3,
   "id": "97c5d015",
   "metadata": {},
   "outputs": [
    {
     "data": {
      "text/plain": [
       "Index(['Pregnancies', 'Glucose', 'BloodPressure', 'SkinThickness', 'Insulin',\n",
       "       'BMI', 'DiabetesPedigreeFunction', 'Age', 'Outcome'],\n",
       "      dtype='object')"
      ]
     },
     "execution_count": 3,
     "metadata": {},
     "output_type": "execute_result"
    }
   ],
   "source": [
    "df.columns"
   ]
  },
  {
   "cell_type": "code",
   "execution_count": 4,
   "id": "e7a40c22",
   "metadata": {
    "scrolled": false
   },
   "outputs": [
    {
     "data": {
      "image/png": "[encoded data removed]",
      "text/plain": [
       "<Figure size 432x288 with 1 Axes>"
      ]
     },
     "metadata": {
      "needs_background": "light"
     },
     "output_type": "display_data"
    },
    {
     "data": {
      "image/png": "[encoded data removed]",
      "text/plain": [
       "<Figure size 432x288 with 1 Axes>"
      ]
     },
     "metadata": {
      "needs_background": "light"
     },
     "output_type": "display_data"
    },
    {
     "data": {
      "image/png": "[encoded data removed]",
      "text/plain": [
       "<Figure size 432x288 with 1 Axes>"
      ]
     },
     "metadata": {
      "needs_background": "light"
     },
     "output_type": "display_data"
    },
    {
     "data": {
      "image/png": "[encoded data removed]",
      "text/plain": [
       "<Figure size 432x288 with 1 Axes>"
      ]
     },
     "metadata": {
      "needs_background": "light"
     },
     "output_type": "display_data"
    },
    {
     "data": {
      "image/png": "[encoded data removed]",
      "text/plain": [
       "<Figure size 432x288 with 1 Axes>"
      ]
     },
     "metadata": {
      "needs_background": "light"
     },
     "output_type": "display_data"
    },
    {
     "data": {
      "image/png": "[encoded data removed]",
      "text/plain": [
       "<Figure size 432x288 with 1 Axes>"
      ]
     },
     "metadata": {
      "needs_background": "light"
     },
     "output_type": "display_data"
    },
    {
     "data": {
      "image/png": "[encoded data removed]",
      "text/plain": [
       "<Figure size 432x288 with 1 Axes>"
      ]
     },
     "metadata": {
      "needs_background": "light"
     },
     "output_type": "display_data"
    },
    {
     "data": {
      "image/png": "[encoded data removed]",
      "text/plain": [
       "<Figure size 432x288 with 1 Axes>"
      ]
     },
     "metadata": {
      "needs_background": "light"
     },
     "output_type": "display_data"
    }
   ],
   "source": [
    "for i in range(len(df.columns[:-1])):\n",
    "    label = df.columns[i]\n",
    "    plt.hist(df[df['Outcome']==1][label],color ='red',label='Diabetes',alpha=0.7)\n",
    "    plt.hist(df[df['Outcome']==0][label],color ='blue',label='No Diabetes',alpha=0.7)\n",
    "    plt.title(label)\n",
    "    plt.xlabel(label)\n",
    "    plt.ylabel('N')\n",
    "    plt.legend()\n",
    "    plt.show()"
   ]
  },
  {
   "cell_type": "markdown",
   "id": "af26c63e",
   "metadata": {},
   "source": [
    "densitybool, default: False\n",
    "\n",
    "If True, draw and return a probability density: each bin will display the bin's raw count divided by the total number of counts and the bin width (density = counts / (sum(counts) * np.diff(bins))), so that the area under the histogram integrates to 1 (np.sum(density * np.diff(bins)) == 1).\n",
    "\n",
    "If stacked is also True, the sum of the histograms is normalized to 1."
   ]
  },
  {
   "cell_type": "code",
   "execution_count": 5,
   "id": "f87bf477",
   "metadata": {
    "scrolled": false
   },
   "outputs": [
    {
     "data": {
      "image/png": "[encoded data removed]",
      "text/plain": [
       "<Figure size 432x288 with 1 Axes>"
      ]
     },
     "metadata": {
      "needs_background": "light"
     },
     "output_type": "display_data"
    },
    {
     "data": {
      "image/png": "[encoded data removed]",
      "text/plain": [
       "<Figure size 432x288 with 1 Axes>"
      ]
     },
     "metadata": {
      "needs_background": "light"
     },
     "output_type": "display_data"
    },
    {
     "data": {
      "image/png": "[encoded data removed]",
      "text/plain": [
       "<Figure size 432x288 with 1 Axes>"
      ]
     },
     "metadata": {
      "needs_background": "light"
     },
     "output_type": "display_data"
    },
    {
     "data": {
      "image/png": "[encoded data removed]",
      "text/plain": [
       "<Figure size 432x288 with 1 Axes>"
      ]
     },
     "metadata": {
      "needs_background": "light"
     },
     "output_type": "display_data"
    },
    {
     "data": {
      "image/png": "[encoded data removed]",
      "text/plain": [
       "<Figure size 432x288 with 1 Axes>"
      ]
     },
     "metadata": {
      "needs_background": "light"
     },
     "output_type": "display_data"
    },
    {
     "data": {
      "image/png": "[encoded data removed]",
      "text/plain": [
       "<Figure size 432x288 with 1 Axes>"
      ]
     },
     "metadata": {
      "needs_background": "light"
     },
     "output_type": "display_data"
    },
    {
     "data": {
      "image/png": "[encoded data removed]",
      "text/plain": [
       "<Figure size 432x288 with 1 Axes>"
      ]
     },
     "metadata": {
      "needs_background": "light"
     },
     "output_type": "display_data"
    },
    {
     "data": {
      "image/png": "[encoded data removed]",
      "text/plain": [
       "<Figure size 432x288 with 1 Axes>"
      ]
     },
     "metadata": {
      "needs_background": "light"
     },
     "output_type": "display_data"
    }
   ],
   "source": [
    "for i in range(len(df.columns[:-1])):\n",
    "    label = df.columns[i]\n",
    "    plt.hist(df[df['Outcome']==1][label],color ='red',label='Diabetes',density =True,alpha=0.7)\n",
    "    plt.hist(df[df['Outcome']==0][label],color ='blue',label='No Diabetes',density =True,alpha=0.7)\n",
    "    plt.title(label)\n",
    "    plt.xlabel(label)\n",
    "    plt.ylabel('N')\n",
    "    plt.legend()\n",
    "    plt.show()"
   ]
  },
  {
   "cell_type": "code",
   "execution_count": 6,
   "id": "f38372bc",
   "metadata": {},
   "outputs": [],
   "source": [
    "X = df[df.columns[:-1]].values\n",
    "y = df[df.columns[-1]].values"
   ]
  },
  {
   "cell_type": "code",
   "execution_count": 7,
   "id": "9720ef78",
   "metadata": {},
   "outputs": [
    {
     "data": {
      "text/plain": [
       "array([1, 0, 1, 0, 1, 0, 1, 0, 1, 1, 0, 1, 0, 1, 1, 1, 1, 1, 0, 1, 0, 0,\n",
       "       1, 1, 1, 1, 1, 0, 0, 0, 0, 1, 0, 0, 0, 0, 0, 1, 1, 1, 0, 0, 0, 1,\n",
       "       0, 1, 0, 0, 1, 0, 0, 0, 0, 1, 0, 0, 1, 0, 0, 0, 0, 1, 0, 0, 1, 0,\n",
       "       1, 0, 0, 0, 1, 0, 1, 0, 0, 0, 0, 0, 1, 0, 0, 0, 0, 0, 1, 0, 0, 0,\n",
       "       1, 0, 0, 0, 0, 1, 0, 0, 0, 0, 0, 1, 1, 0, 0, 0, 0, 0, 0, 0, 0, 1,\n",
       "       1, 1, 0, 0, 1, 1, 1, 0, 0, 0, 1, 0, 0, 0, 1, 1, 0, 0, 1, 1, 1, 1,\n",
       "       1, 0, 0, 0, 0, 0, 0, 0, 0, 0, 0, 1, 0, 0, 0, 0, 0, 0, 0, 0, 1, 0,\n",
       "       1, 1, 0, 0, 0, 1, 0, 0, 0, 0, 1, 1, 0, 0, 0, 0, 1, 1, 0, 0, 0, 1,\n",
       "       0, 1, 0, 1, 0, 0, 0, 0, 0, 1, 1, 1, 1, 1, 0, 0, 1, 1, 0, 1, 0, 1,\n",
       "       1, 1, 0, 0, 0, 0, 0, 0, 1, 1, 0, 1, 0, 0, 0, 1, 1, 1, 1, 0, 1, 1,\n",
       "       1, 1, 0, 0, 0, 0, 0, 1, 0, 0, 1, 1, 0, 0, 0, 1, 1, 1, 1, 0, 0, 0,\n",
       "       1, 1, 0, 1, 0, 0, 0, 0, 0, 0, 0, 0, 1, 1, 0, 0, 0, 1, 0, 1, 0, 0,\n",
       "       1, 0, 1, 0, 0, 1, 1, 0, 0, 0, 0, 0, 1, 0, 0, 0, 1, 0, 0, 1, 1, 0,\n",
       "       0, 1, 0, 0, 0, 1, 1, 1, 0, 0, 1, 0, 1, 0, 1, 1, 0, 1, 0, 0, 1, 0,\n",
       "       1, 1, 0, 0, 1, 0, 1, 0, 0, 1, 0, 1, 0, 1, 1, 1, 0, 0, 1, 0, 1, 0,\n",
       "       0, 0, 1, 0, 0, 0, 0, 1, 1, 1, 0, 0, 0, 0, 0, 0, 0, 0, 0, 1, 0, 0,\n",
       "       0, 0, 0, 1, 1, 1, 0, 1, 1, 0, 0, 1, 0, 0, 1, 0, 0, 1, 1, 0, 0, 0,\n",
       "       0, 1, 0, 0, 1, 0, 0, 0, 0, 0, 0, 0, 1, 1, 1, 0, 0, 1, 0, 0, 1, 0,\n",
       "       0, 1, 0, 1, 1, 0, 1, 0, 1, 0, 1, 0, 1, 1, 0, 0, 0, 0, 1, 1, 0, 1,\n",
       "       0, 1, 0, 0, 0, 0, 1, 1, 0, 1, 0, 1, 0, 0, 0, 0, 0, 1, 0, 0, 0, 0,\n",
       "       1, 0, 0, 1, 1, 1, 0, 0, 1, 0, 0, 1, 0, 0, 0, 1, 0, 0, 1, 0, 0, 0,\n",
       "       0, 0, 0, 0, 0, 0, 1, 0, 0, 0, 0, 0, 0, 0, 1, 0, 0, 0, 1, 0, 0, 0,\n",
       "       1, 1, 0, 0, 0, 0, 0, 0, 0, 1, 0, 0, 0, 0, 1, 0, 0, 0, 1, 0, 0, 0,\n",
       "       1, 0, 0, 0, 1, 0, 0, 0, 0, 1, 1, 0, 0, 0, 0, 0, 0, 1, 0, 0, 0, 0,\n",
       "       0, 0, 0, 0, 0, 0, 0, 1, 0, 0, 0, 1, 1, 1, 1, 0, 0, 1, 1, 0, 0, 0,\n",
       "       0, 0, 0, 0, 0, 0, 0, 0, 0, 0, 1, 1, 0, 0, 0, 0, 0, 0, 0, 1, 0, 0,\n",
       "       0, 0, 0, 0, 0, 1, 0, 1, 1, 0, 0, 0, 1, 0, 1, 0, 1, 0, 1, 0, 1, 0,\n",
       "       0, 1, 0, 0, 1, 0, 0, 0, 0, 1, 1, 0, 1, 0, 0, 0, 0, 1, 1, 0, 1, 0,\n",
       "       0, 0, 1, 1, 0, 0, 0, 0, 0, 0, 0, 0, 0, 0, 1, 0, 0, 0, 0, 1, 0, 0,\n",
       "       1, 0, 0, 0, 1, 0, 0, 0, 1, 1, 1, 0, 0, 0, 0, 0, 0, 1, 0, 0, 0, 1,\n",
       "       0, 1, 1, 1, 1, 0, 1, 1, 0, 0, 0, 0, 0, 0, 0, 1, 1, 0, 1, 0, 0, 1,\n",
       "       0, 1, 0, 0, 0, 0, 0, 1, 0, 1, 0, 1, 0, 1, 1, 0, 0, 0, 0, 1, 1, 0,\n",
       "       0, 0, 1, 0, 1, 1, 0, 0, 1, 0, 0, 1, 1, 0, 0, 1, 0, 0, 1, 0, 0, 0,\n",
       "       0, 0, 0, 0, 1, 1, 1, 0, 0, 0, 0, 0, 0, 1, 1, 0, 0, 1, 0, 0, 1, 0,\n",
       "       1, 1, 1, 0, 0, 1, 1, 1, 0, 1, 0, 1, 0, 1, 0, 0, 0, 0, 1, 0],\n",
       "      dtype=int64)"
      ]
     },
     "execution_count": 7,
     "metadata": {},
     "output_type": "execute_result"
    }
   ],
   "source": [
    "y"
   ]
  },
  {
   "cell_type": "code",
   "execution_count": 8,
   "id": "ad72b3a3",
   "metadata": {},
   "outputs": [],
   "source": [
    "from sklearn.model_selection import train_test_split"
   ]
  },
  {
   "cell_type": "code",
   "execution_count": 9,
   "id": "867a5952",
   "metadata": {},
   "outputs": [],
   "source": [
    "X_train, X_temp,y_train,y_temp = train_test_split(X,y,test_size = 0.4,random_state = 0)\n",
    "X_valid, X_test,y_valid,y_test = train_test_split(X_temp,y_temp,test_size = 0.5,random_state = 0)"
   ]
  },
  {
   "cell_type": "code",
   "execution_count": 10,
   "id": "b04e116f",
   "metadata": {},
   "outputs": [],
   "source": [
    "import tensorflow as tf"
   ]
  },
  {
   "cell_type": "code",
   "execution_count": 11,
   "id": "e3828705",
   "metadata": {},
   "outputs": [],
   "source": [
    "model = tf.keras.Sequential([\n",
    "    tf.keras.layers.Dense(16,activation='relu'),\n",
    "    tf.keras.layers.Dense(16,activation='relu'),\n",
    "    tf.keras.layers.Dense(1,activation='sigmoid')\n",
    "])"
   ]
  },
  {
   "cell_type": "code",
   "execution_count": 12,
   "id": "b76f36bc",
   "metadata": {},
   "outputs": [],
   "source": [
    "model.compile(optimizer=tf.keras.optimizers.Adam(learning_rate=0.001),loss= tf.keras.losses.BinaryCrossentropy(),metrics=['accuracy'])"
   ]
  },
  {
   "cell_type": "code",
   "execution_count": 13,
   "id": "1c87dcdc",
   "metadata": {},
   "outputs": [
    {
     "name": "stdout",
     "output_type": "stream",
     "text": [
      "15/15 [==============================] - 1s 3ms/step - loss: 25.0329 - accuracy: 0.6413\n"
     ]
    },
    {
     "data": {
      "text/plain": [
       "<keras.callbacks.History at 0x1ae1f8e1700>"
      ]
     },
     "execution_count": 13,
     "metadata": {},
     "output_type": "execute_result"
    }
   ],
   "source": [
    "model.fit(X_train,y_train)"
   ]
  },
  {
   "cell_type": "code",
   "execution_count": 14,
   "id": "a6003ad4",
   "metadata": {},
   "outputs": [
    {
     "name": "stdout",
     "output_type": "stream",
     "text": [
      "5/5 [==============================] - 0s 3ms/step - loss: 16.2559 - accuracy: 0.6494\n"
     ]
    },
    {
     "data": {
      "text/plain": [
       "[16.255868911743164, 0.649350643157959]"
      ]
     },
     "execution_count": 14,
     "metadata": {},
     "output_type": "execute_result"
    }
   ],
   "source": [
    "model.evaluate(X_valid,y_valid)"
   ]
  },
  {
   "cell_type": "code",
   "execution_count": 15,
   "id": "0ee2e53c",
   "metadata": {},
   "outputs": [
    {
     "name": "stdout",
     "output_type": "stream",
     "text": [
      "Epoch 1/100\n",
      "92/92 [==============================] - 0s 3ms/step - loss: 5.7909 - accuracy: 0.5196 - val_loss: 2.4588 - val_accuracy: 0.4481\n",
      "Epoch 2/100\n",
      "92/92 [==============================] - 0s 3ms/step - loss: 1.4428 - accuracy: 0.5652 - val_loss: 1.1987 - val_accuracy: 0.5649\n",
      "Epoch 3/100\n",
      "92/92 [==============================] - 0s 3ms/step - loss: 1.0442 - accuracy: 0.6130 - val_loss: 0.9607 - val_accuracy: 0.6039\n",
      "Epoch 4/100\n",
      "92/92 [==============================] - 0s 3ms/step - loss: 0.9315 - accuracy: 0.6065 - val_loss: 0.8954 - val_accuracy: 0.6364\n",
      "Epoch 5/100\n",
      "92/92 [==============================] - 0s 3ms/step - loss: 0.8301 - accuracy: 0.6283 - val_loss: 0.8824 - val_accuracy: 0.6429\n",
      "Epoch 6/100\n",
      "92/92 [==============================] - 0s 3ms/step - loss: 0.7591 - accuracy: 0.6326 - val_loss: 0.8409 - val_accuracy: 0.6494\n",
      "Epoch 7/100\n",
      "92/92 [==============================] - 0s 3ms/step - loss: 0.7705 - accuracy: 0.6543 - val_loss: 0.8179 - val_accuracy: 0.6299\n",
      "Epoch 8/100\n",
      "92/92 [==============================] - 0s 3ms/step - loss: 0.6955 - accuracy: 0.6652 - val_loss: 0.9885 - val_accuracy: 0.5714\n",
      "Epoch 9/100\n",
      "92/92 [==============================] - 0s 3ms/step - loss: 0.6933 - accuracy: 0.6848 - val_loss: 0.8121 - val_accuracy: 0.6299\n",
      "Epoch 10/100\n",
      "92/92 [==============================] - 0s 3ms/step - loss: 0.6876 - accuracy: 0.6978 - val_loss: 0.8530 - val_accuracy: 0.6429\n",
      "Epoch 11/100\n",
      "92/92 [==============================] - 0s 3ms/step - loss: 0.6953 - accuracy: 0.6587 - val_loss: 0.8184 - val_accuracy: 0.6429\n",
      "Epoch 12/100\n",
      "92/92 [==============================] - 0s 3ms/step - loss: 0.6929 - accuracy: 0.6978 - val_loss: 0.7904 - val_accuracy: 0.6494\n",
      "Epoch 13/100\n",
      "92/92 [==============================] - 0s 3ms/step - loss: 0.6531 - accuracy: 0.6826 - val_loss: 0.7506 - val_accuracy: 0.6494\n",
      "Epoch 14/100\n",
      "92/92 [==============================] - 0s 3ms/step - loss: 0.6520 - accuracy: 0.6870 - val_loss: 0.8851 - val_accuracy: 0.5714\n",
      "Epoch 15/100\n",
      "92/92 [==============================] - 0s 3ms/step - loss: 0.6493 - accuracy: 0.6935 - val_loss: 0.8983 - val_accuracy: 0.6753\n",
      "Epoch 16/100\n",
      "92/92 [==============================] - 0s 3ms/step - loss: 0.7272 - accuracy: 0.6652 - val_loss: 0.7477 - val_accuracy: 0.6623\n",
      "Epoch 17/100\n",
      "92/92 [==============================] - 0s 3ms/step - loss: 0.6171 - accuracy: 0.7043 - val_loss: 0.7231 - val_accuracy: 0.6818\n",
      "Epoch 18/100\n",
      "92/92 [==============================] - 0s 3ms/step - loss: 0.6506 - accuracy: 0.7043 - val_loss: 0.7834 - val_accuracy: 0.6494\n",
      "Epoch 19/100\n",
      "92/92 [==============================] - 0s 3ms/step - loss: 0.6160 - accuracy: 0.7087 - val_loss: 0.7625 - val_accuracy: 0.6558\n",
      "Epoch 20/100\n",
      "92/92 [==============================] - 0s 3ms/step - loss: 0.5958 - accuracy: 0.7174 - val_loss: 0.7715 - val_accuracy: 0.7013\n",
      "Epoch 21/100\n",
      "92/92 [==============================] - 0s 3ms/step - loss: 0.5885 - accuracy: 0.7174 - val_loss: 0.7226 - val_accuracy: 0.6623\n",
      "Epoch 22/100\n",
      "92/92 [==============================] - 0s 3ms/step - loss: 0.5724 - accuracy: 0.7239 - val_loss: 0.7678 - val_accuracy: 0.7013\n",
      "Epoch 23/100\n",
      "92/92 [==============================] - 0s 3ms/step - loss: 0.6180 - accuracy: 0.6978 - val_loss: 0.7905 - val_accuracy: 0.6818\n",
      "Epoch 24/100\n",
      "92/92 [==============================] - 0s 3ms/step - loss: 0.6250 - accuracy: 0.7217 - val_loss: 0.8340 - val_accuracy: 0.6558\n",
      "Epoch 25/100\n",
      "92/92 [==============================] - 0s 3ms/step - loss: 0.6106 - accuracy: 0.6913 - val_loss: 0.7549 - val_accuracy: 0.6948\n",
      "Epoch 26/100\n",
      "92/92 [==============================] - 0s 3ms/step - loss: 0.6592 - accuracy: 0.6913 - val_loss: 0.8353 - val_accuracy: 0.5844\n",
      "Epoch 27/100\n",
      "92/92 [==============================] - 0s 3ms/step - loss: 0.7091 - accuracy: 0.6457 - val_loss: 0.6640 - val_accuracy: 0.7143\n",
      "Epoch 28/100\n",
      "92/92 [==============================] - 0s 3ms/step - loss: 0.6364 - accuracy: 0.7087 - val_loss: 0.8060 - val_accuracy: 0.6883\n",
      "Epoch 29/100\n",
      "92/92 [==============================] - 0s 3ms/step - loss: 0.5872 - accuracy: 0.7109 - val_loss: 0.6939 - val_accuracy: 0.6948\n",
      "Epoch 30/100\n",
      "92/92 [==============================] - 0s 3ms/step - loss: 0.6039 - accuracy: 0.7000 - val_loss: 0.6858 - val_accuracy: 0.7143\n",
      "Epoch 31/100\n",
      "92/92 [==============================] - 0s 3ms/step - loss: 0.5612 - accuracy: 0.7196 - val_loss: 0.6610 - val_accuracy: 0.6688\n",
      "Epoch 32/100\n",
      "92/92 [==============================] - 0s 3ms/step - loss: 0.6123 - accuracy: 0.7174 - val_loss: 0.6923 - val_accuracy: 0.7013\n",
      "Epoch 33/100\n",
      "92/92 [==============================] - 0s 3ms/step - loss: 0.5804 - accuracy: 0.7174 - val_loss: 0.8875 - val_accuracy: 0.5714\n",
      "Epoch 34/100\n",
      "92/92 [==============================] - 0s 3ms/step - loss: 0.5690 - accuracy: 0.7370 - val_loss: 0.6949 - val_accuracy: 0.6818\n",
      "Epoch 35/100\n",
      "92/92 [==============================] - 0s 3ms/step - loss: 0.5569 - accuracy: 0.7326 - val_loss: 0.6703 - val_accuracy: 0.6753\n",
      "Epoch 36/100\n",
      "92/92 [==============================] - 0s 3ms/step - loss: 0.5477 - accuracy: 0.7196 - val_loss: 0.6889 - val_accuracy: 0.6623\n",
      "Epoch 37/100\n",
      "92/92 [==============================] - 0s 3ms/step - loss: 0.5595 - accuracy: 0.7109 - val_loss: 0.6424 - val_accuracy: 0.6883\n",
      "Epoch 38/100\n",
      "92/92 [==============================] - 0s 3ms/step - loss: 0.5587 - accuracy: 0.7326 - val_loss: 0.6940 - val_accuracy: 0.6558\n",
      "Epoch 39/100\n",
      "92/92 [==============================] - 0s 3ms/step - loss: 0.5872 - accuracy: 0.7000 - val_loss: 0.6683 - val_accuracy: 0.6883\n",
      "Epoch 40/100\n",
      "92/92 [==============================] - 0s 3ms/step - loss: 0.5566 - accuracy: 0.7370 - val_loss: 0.6998 - val_accuracy: 0.6948\n",
      "Epoch 41/100\n",
      "92/92 [==============================] - 0s 3ms/step - loss: 0.5829 - accuracy: 0.7022 - val_loss: 0.6520 - val_accuracy: 0.6818\n",
      "Epoch 42/100\n",
      "92/92 [==============================] - 0s 3ms/step - loss: 0.5461 - accuracy: 0.7370 - val_loss: 0.6509 - val_accuracy: 0.7013\n",
      "Epoch 43/100\n",
      "92/92 [==============================] - 0s 3ms/step - loss: 0.5702 - accuracy: 0.7239 - val_loss: 0.7016 - val_accuracy: 0.6688\n",
      "Epoch 44/100\n",
      "92/92 [==============================] - 0s 3ms/step - loss: 0.5430 - accuracy: 0.7304 - val_loss: 0.6515 - val_accuracy: 0.6948\n",
      "Epoch 45/100\n",
      "92/92 [==============================] - 0s 3ms/step - loss: 0.6014 - accuracy: 0.7087 - val_loss: 0.6993 - val_accuracy: 0.6948\n",
      "Epoch 46/100\n",
      "92/92 [==============================] - 0s 3ms/step - loss: 0.5536 - accuracy: 0.7152 - val_loss: 0.7399 - val_accuracy: 0.6948\n",
      "Epoch 47/100\n",
      "92/92 [==============================] - 0s 3ms/step - loss: 0.5756 - accuracy: 0.7304 - val_loss: 0.7333 - val_accuracy: 0.6883\n",
      "Epoch 48/100\n",
      "92/92 [==============================] - 0s 3ms/step - loss: 0.5710 - accuracy: 0.7348 - val_loss: 0.6698 - val_accuracy: 0.6818\n",
      "Epoch 49/100\n",
      "92/92 [==============================] - 0s 3ms/step - loss: 0.5732 - accuracy: 0.7022 - val_loss: 0.6522 - val_accuracy: 0.7143\n",
      "Epoch 50/100\n",
      "92/92 [==============================] - 0s 3ms/step - loss: 0.5452 - accuracy: 0.7196 - val_loss: 0.6663 - val_accuracy: 0.6883\n",
      "Epoch 51/100\n",
      "92/92 [==============================] - 0s 4ms/step - loss: 0.5767 - accuracy: 0.7000 - val_loss: 0.6760 - val_accuracy: 0.6623\n",
      "Epoch 52/100\n",
      "92/92 [==============================] - 0s 3ms/step - loss: 0.5416 - accuracy: 0.7196 - val_loss: 0.6516 - val_accuracy: 0.6948\n",
      "Epoch 53/100\n",
      "92/92 [==============================] - 0s 3ms/step - loss: 0.6099 - accuracy: 0.7196 - val_loss: 0.7505 - val_accuracy: 0.6818\n",
      "Epoch 54/100\n",
      "92/92 [==============================] - 0s 3ms/step - loss: 0.5461 - accuracy: 0.7196 - val_loss: 0.7256 - val_accuracy: 0.6688\n",
      "Epoch 55/100\n",
      "92/92 [==============================] - 0s 3ms/step - loss: 0.5379 - accuracy: 0.7174 - val_loss: 0.7516 - val_accuracy: 0.6948\n",
      "Epoch 56/100\n",
      "92/92 [==============================] - 0s 3ms/step - loss: 0.5617 - accuracy: 0.7304 - val_loss: 0.6799 - val_accuracy: 0.7013\n",
      "Epoch 57/100\n",
      "92/92 [==============================] - 0s 3ms/step - loss: 0.5612 - accuracy: 0.7261 - val_loss: 0.6945 - val_accuracy: 0.7143\n",
      "Epoch 58/100\n",
      "92/92 [==============================] - 0s 3ms/step - loss: 0.5172 - accuracy: 0.7543 - val_loss: 0.6246 - val_accuracy: 0.7013\n"
     ]
    },
    {
     "name": "stdout",
     "output_type": "stream",
     "text": [
      "Epoch 59/100\n",
      "92/92 [==============================] - 0s 3ms/step - loss: 0.5125 - accuracy: 0.7370 - val_loss: 0.6437 - val_accuracy: 0.7338\n",
      "Epoch 60/100\n",
      "92/92 [==============================] - 0s 3ms/step - loss: 0.5390 - accuracy: 0.7326 - val_loss: 0.8064 - val_accuracy: 0.6948\n",
      "Epoch 61/100\n",
      "92/92 [==============================] - 0s 3ms/step - loss: 0.5401 - accuracy: 0.7304 - val_loss: 0.6221 - val_accuracy: 0.7013\n",
      "Epoch 62/100\n",
      "92/92 [==============================] - 0s 3ms/step - loss: 0.6058 - accuracy: 0.7000 - val_loss: 0.6603 - val_accuracy: 0.6883\n",
      "Epoch 63/100\n",
      "92/92 [==============================] - 0s 3ms/step - loss: 0.5519 - accuracy: 0.7261 - val_loss: 0.6612 - val_accuracy: 0.6883\n",
      "Epoch 64/100\n",
      "92/92 [==============================] - 0s 3ms/step - loss: 0.5383 - accuracy: 0.7326 - val_loss: 0.6765 - val_accuracy: 0.6883\n",
      "Epoch 65/100\n",
      "92/92 [==============================] - 0s 3ms/step - loss: 0.5147 - accuracy: 0.7565 - val_loss: 0.6479 - val_accuracy: 0.7078\n",
      "Epoch 66/100\n",
      "92/92 [==============================] - 0s 3ms/step - loss: 0.5430 - accuracy: 0.7283 - val_loss: 0.8892 - val_accuracy: 0.6753\n",
      "Epoch 67/100\n",
      "92/92 [==============================] - 0s 3ms/step - loss: 0.5619 - accuracy: 0.7087 - val_loss: 0.6659 - val_accuracy: 0.7013\n",
      "Epoch 68/100\n",
      "92/92 [==============================] - 0s 3ms/step - loss: 0.5418 - accuracy: 0.7326 - val_loss: 0.7588 - val_accuracy: 0.6818\n",
      "Epoch 69/100\n",
      "92/92 [==============================] - 0s 3ms/step - loss: 0.5177 - accuracy: 0.7609 - val_loss: 0.6711 - val_accuracy: 0.7013\n",
      "Epoch 70/100\n",
      "92/92 [==============================] - 0s 3ms/step - loss: 0.5651 - accuracy: 0.7152 - val_loss: 0.6602 - val_accuracy: 0.7208\n",
      "Epoch 71/100\n",
      "92/92 [==============================] - 0s 3ms/step - loss: 0.5257 - accuracy: 0.7457 - val_loss: 0.6445 - val_accuracy: 0.6883\n",
      "Epoch 72/100\n",
      "92/92 [==============================] - 0s 3ms/step - loss: 0.5284 - accuracy: 0.7478 - val_loss: 0.6334 - val_accuracy: 0.7143\n",
      "Epoch 73/100\n",
      "92/92 [==============================] - 0s 3ms/step - loss: 0.5269 - accuracy: 0.7413 - val_loss: 0.6562 - val_accuracy: 0.7013\n",
      "Epoch 74/100\n",
      "92/92 [==============================] - 0s 3ms/step - loss: 0.5107 - accuracy: 0.7478 - val_loss: 0.6754 - val_accuracy: 0.6948\n",
      "Epoch 75/100\n",
      "92/92 [==============================] - 0s 3ms/step - loss: 0.5743 - accuracy: 0.7196 - val_loss: 0.7756 - val_accuracy: 0.6883\n",
      "Epoch 76/100\n",
      "92/92 [==============================] - 0s 3ms/step - loss: 0.5281 - accuracy: 0.7239 - val_loss: 0.6354 - val_accuracy: 0.6818\n",
      "Epoch 77/100\n",
      "92/92 [==============================] - 0s 3ms/step - loss: 0.5608 - accuracy: 0.7196 - val_loss: 0.7002 - val_accuracy: 0.7143\n",
      "Epoch 78/100\n",
      "92/92 [==============================] - 0s 3ms/step - loss: 0.5089 - accuracy: 0.7348 - val_loss: 0.6314 - val_accuracy: 0.6948\n",
      "Epoch 79/100\n",
      "92/92 [==============================] - 0s 3ms/step - loss: 0.5381 - accuracy: 0.7413 - val_loss: 0.6332 - val_accuracy: 0.6883\n",
      "Epoch 80/100\n",
      "92/92 [==============================] - 0s 3ms/step - loss: 0.4877 - accuracy: 0.7739 - val_loss: 0.6510 - val_accuracy: 0.7208\n",
      "Epoch 81/100\n",
      "92/92 [==============================] - 0s 3ms/step - loss: 0.5253 - accuracy: 0.7587 - val_loss: 0.8333 - val_accuracy: 0.5844\n",
      "Epoch 82/100\n",
      "92/92 [==============================] - 0s 3ms/step - loss: 0.5371 - accuracy: 0.7217 - val_loss: 0.7033 - val_accuracy: 0.6818\n",
      "Epoch 83/100\n",
      "92/92 [==============================] - 0s 3ms/step - loss: 0.5226 - accuracy: 0.7239 - val_loss: 0.6592 - val_accuracy: 0.6883\n",
      "Epoch 84/100\n",
      "92/92 [==============================] - 0s 3ms/step - loss: 0.5168 - accuracy: 0.7587 - val_loss: 0.6443 - val_accuracy: 0.7013\n",
      "Epoch 85/100\n",
      "92/92 [==============================] - 0s 3ms/step - loss: 0.5541 - accuracy: 0.7130 - val_loss: 0.6456 - val_accuracy: 0.7208\n",
      "Epoch 86/100\n",
      "92/92 [==============================] - 0s 3ms/step - loss: 0.5320 - accuracy: 0.7326 - val_loss: 0.6753 - val_accuracy: 0.6753\n",
      "Epoch 87/100\n",
      "92/92 [==============================] - 0s 3ms/step - loss: 0.5266 - accuracy: 0.7500 - val_loss: 0.6980 - val_accuracy: 0.6883\n",
      "Epoch 88/100\n",
      "92/92 [==============================] - 0s 3ms/step - loss: 0.5107 - accuracy: 0.7739 - val_loss: 0.6430 - val_accuracy: 0.6753\n",
      "Epoch 89/100\n",
      "92/92 [==============================] - 0s 3ms/step - loss: 0.4819 - accuracy: 0.7848 - val_loss: 0.6483 - val_accuracy: 0.6948\n",
      "Epoch 90/100\n",
      "92/92 [==============================] - 0s 3ms/step - loss: 0.4966 - accuracy: 0.7478 - val_loss: 0.6625 - val_accuracy: 0.6883\n",
      "Epoch 91/100\n",
      "92/92 [==============================] - 0s 3ms/step - loss: 0.4834 - accuracy: 0.7587 - val_loss: 0.6261 - val_accuracy: 0.7143\n",
      "Epoch 92/100\n",
      "92/92 [==============================] - 0s 3ms/step - loss: 0.4854 - accuracy: 0.7565 - val_loss: 0.6377 - val_accuracy: 0.7013\n",
      "Epoch 93/100\n",
      "92/92 [==============================] - 0s 3ms/step - loss: 0.4733 - accuracy: 0.7652 - val_loss: 0.6748 - val_accuracy: 0.7013\n",
      "Epoch 94/100\n",
      "92/92 [==============================] - 0s 3ms/step - loss: 0.4844 - accuracy: 0.7761 - val_loss: 0.6727 - val_accuracy: 0.7078\n",
      "Epoch 95/100\n",
      "92/92 [==============================] - 0s 3ms/step - loss: 0.5102 - accuracy: 0.7543 - val_loss: 0.6428 - val_accuracy: 0.6948\n",
      "Epoch 96/100\n",
      "92/92 [==============================] - 0s 3ms/step - loss: 0.5118 - accuracy: 0.7435 - val_loss: 0.6503 - val_accuracy: 0.6883\n",
      "Epoch 97/100\n",
      "92/92 [==============================] - 0s 3ms/step - loss: 0.4881 - accuracy: 0.7587 - val_loss: 0.6834 - val_accuracy: 0.6688\n",
      "Epoch 98/100\n",
      "92/92 [==============================] - 0s 3ms/step - loss: 0.4948 - accuracy: 0.7565 - val_loss: 0.6899 - val_accuracy: 0.7208\n",
      "Epoch 99/100\n",
      "92/92 [==============================] - 0s 3ms/step - loss: 0.4782 - accuracy: 0.7609 - val_loss: 0.6365 - val_accuracy: 0.7208\n",
      "Epoch 100/100\n",
      "92/92 [==============================] - 0s 3ms/step - loss: 0.5159 - accuracy: 0.7609 - val_loss: 0.6740 - val_accuracy: 0.7143\n"
     ]
    },
    {
     "data": {
      "text/plain": [
       "<keras.callbacks.History at 0x1ae21dbb0a0>"
      ]
     },
     "execution_count": 15,
     "metadata": {},
     "output_type": "execute_result"
    }
   ],
   "source": [
    "model.fit(X_train,y_train,batch_size = 5,epochs = 100,validation_data=(X_valid,y_valid))"
   ]
  },
  {
   "cell_type": "markdown",
   "id": "712bc314",
   "metadata": {},
   "source": [
    "# Using Scaling"
   ]
  },
  {
   "cell_type": "code",
   "execution_count": 16,
   "id": "64421445",
   "metadata": {},
   "outputs": [],
   "source": [
    "from sklearn.preprocessing import StandardScaler\n",
    "sc = StandardScaler()"
   ]
  },
  {
   "cell_type": "code",
   "execution_count": 17,
   "id": "a2f96ff8",
   "metadata": {},
   "outputs": [],
   "source": [
    "X = df[df.columns[:-1]].values\n",
    "y = df[df.columns[-1]].values"
   ]
  },
  {
   "cell_type": "code",
   "execution_count": 26,
   "id": "396cb913",
   "metadata": {},
   "outputs": [],
   "source": [
    "X = sc.fit_transform(X)"
   ]
  },
  {
   "cell_type": "code",
   "execution_count": 20,
   "id": "9cc1c582",
   "metadata": {},
   "outputs": [
    {
     "data": {
      "text/plain": [
       "(768, 8)"
      ]
     },
     "execution_count": 20,
     "metadata": {},
     "output_type": "execute_result"
    }
   ],
   "source": [
    "X.shape"
   ]
  },
  {
   "cell_type": "code",
   "execution_count": 21,
   "id": "2ad9b4a4",
   "metadata": {},
   "outputs": [
    {
     "data": {
      "text/plain": [
       "(768,)"
      ]
     },
     "execution_count": 21,
     "metadata": {},
     "output_type": "execute_result"
    }
   ],
   "source": [
    "y.shape"
   ]
  },
  {
   "cell_type": "code",
   "execution_count": 22,
   "id": "f6293a17",
   "metadata": {},
   "outputs": [],
   "source": [
    "model = tf.keras.Sequential([\n",
    "    tf.keras.layers.Dense(16,activation='relu'),\n",
    "    tf.keras.layers.Dense(16,activation='relu'),\n",
    "    tf.keras.layers.Dense(1,activation='sigmoid')\n",
    "])\n",
    "model.compile(optimizer=tf.keras.optimizers.Adam(learning_rate=0.001),loss= tf.keras.losses.BinaryCrossentropy(),metrics=['accuracy'])"
   ]
  },
  {
   "cell_type": "code",
   "execution_count": 23,
   "id": "2a90952f",
   "metadata": {
    "scrolled": true
   },
   "outputs": [
    {
     "name": "stdout",
     "output_type": "stream",
     "text": [
      "Epoch 1/100\n",
      "92/92 [==============================] - 1s 4ms/step - loss: 31.0550 - accuracy: 0.5174 - val_loss: 6.2371 - val_accuracy: 0.3506\n",
      "Epoch 2/100\n",
      "92/92 [==============================] - 0s 2ms/step - loss: 5.7052 - accuracy: 0.4522 - val_loss: 2.7755 - val_accuracy: 0.5195\n",
      "Epoch 3/100\n",
      "92/92 [==============================] - 0s 2ms/step - loss: 2.6055 - accuracy: 0.5391 - val_loss: 1.8366 - val_accuracy: 0.6104\n",
      "Epoch 4/100\n",
      "92/92 [==============================] - 0s 2ms/step - loss: 1.7320 - accuracy: 0.6022 - val_loss: 2.0114 - val_accuracy: 0.6429\n",
      "Epoch 5/100\n",
      "92/92 [==============================] - 0s 2ms/step - loss: 1.5550 - accuracy: 0.6043 - val_loss: 1.5521 - val_accuracy: 0.6104\n",
      "Epoch 6/100\n",
      "92/92 [==============================] - 0s 2ms/step - loss: 1.3132 - accuracy: 0.6130 - val_loss: 1.6458 - val_accuracy: 0.5519\n",
      "Epoch 7/100\n",
      "92/92 [==============================] - 0s 2ms/step - loss: 1.3983 - accuracy: 0.6261 - val_loss: 1.4556 - val_accuracy: 0.5584\n",
      "Epoch 8/100\n",
      "92/92 [==============================] - 0s 3ms/step - loss: 1.2559 - accuracy: 0.6152 - val_loss: 1.4027 - val_accuracy: 0.5649\n",
      "Epoch 9/100\n",
      "92/92 [==============================] - 0s 3ms/step - loss: 1.0217 - accuracy: 0.6761 - val_loss: 1.3815 - val_accuracy: 0.5195\n",
      "Epoch 10/100\n",
      "92/92 [==============================] - 0s 2ms/step - loss: 1.0197 - accuracy: 0.6630 - val_loss: 1.2264 - val_accuracy: 0.5844\n",
      "Epoch 11/100\n",
      "92/92 [==============================] - 0s 2ms/step - loss: 0.9681 - accuracy: 0.6630 - val_loss: 1.0452 - val_accuracy: 0.6364\n",
      "Epoch 12/100\n",
      "92/92 [==============================] - 0s 2ms/step - loss: 1.0649 - accuracy: 0.6478 - val_loss: 1.0966 - val_accuracy: 0.6234\n",
      "Epoch 13/100\n",
      "92/92 [==============================] - 0s 3ms/step - loss: 1.0482 - accuracy: 0.6565 - val_loss: 1.1014 - val_accuracy: 0.5584\n",
      "Epoch 14/100\n",
      "92/92 [==============================] - 0s 2ms/step - loss: 0.9627 - accuracy: 0.6457 - val_loss: 1.0160 - val_accuracy: 0.6494\n",
      "Epoch 15/100\n",
      "92/92 [==============================] - 0s 2ms/step - loss: 0.9016 - accuracy: 0.6761 - val_loss: 0.9005 - val_accuracy: 0.6234\n",
      "Epoch 16/100\n",
      "92/92 [==============================] - 0s 2ms/step - loss: 0.8327 - accuracy: 0.7043 - val_loss: 0.9014 - val_accuracy: 0.6299\n",
      "Epoch 17/100\n",
      "92/92 [==============================] - 0s 3ms/step - loss: 0.9030 - accuracy: 0.6935 - val_loss: 1.5684 - val_accuracy: 0.4740\n",
      "Epoch 18/100\n",
      "92/92 [==============================] - 0s 2ms/step - loss: 1.1517 - accuracy: 0.5978 - val_loss: 0.8711 - val_accuracy: 0.6688\n",
      "Epoch 19/100\n",
      "92/92 [==============================] - 0s 2ms/step - loss: 0.8585 - accuracy: 0.6739 - val_loss: 1.2903 - val_accuracy: 0.4740\n",
      "Epoch 20/100\n",
      "92/92 [==============================] - 0s 3ms/step - loss: 0.9478 - accuracy: 0.6435 - val_loss: 1.2455 - val_accuracy: 0.6364\n",
      "Epoch 21/100\n",
      "92/92 [==============================] - 0s 3ms/step - loss: 0.7431 - accuracy: 0.6739 - val_loss: 0.8236 - val_accuracy: 0.6494\n",
      "Epoch 22/100\n",
      "92/92 [==============================] - 0s 3ms/step - loss: 0.7793 - accuracy: 0.6891 - val_loss: 1.0215 - val_accuracy: 0.6234\n",
      "Epoch 23/100\n",
      "92/92 [==============================] - 0s 3ms/step - loss: 0.8887 - accuracy: 0.6783 - val_loss: 0.8046 - val_accuracy: 0.6494\n",
      "Epoch 24/100\n",
      "92/92 [==============================] - 0s 3ms/step - loss: 0.7084 - accuracy: 0.6957 - val_loss: 0.9116 - val_accuracy: 0.6299\n",
      "Epoch 25/100\n",
      "92/92 [==============================] - 0s 3ms/step - loss: 0.7403 - accuracy: 0.6717 - val_loss: 0.7551 - val_accuracy: 0.6688\n",
      "Epoch 26/100\n",
      "92/92 [==============================] - 0s 3ms/step - loss: 0.7228 - accuracy: 0.6522 - val_loss: 1.0534 - val_accuracy: 0.5195\n",
      "Epoch 27/100\n",
      "92/92 [==============================] - 0s 3ms/step - loss: 0.7979 - accuracy: 0.6609 - val_loss: 0.7361 - val_accuracy: 0.6753\n",
      "Epoch 28/100\n",
      "92/92 [==============================] - 0s 3ms/step - loss: 0.7262 - accuracy: 0.6761 - val_loss: 0.8371 - val_accuracy: 0.6364\n",
      "Epoch 29/100\n",
      "92/92 [==============================] - 0s 3ms/step - loss: 0.7152 - accuracy: 0.6935 - val_loss: 0.8074 - val_accuracy: 0.6104\n",
      "Epoch 30/100\n",
      "92/92 [==============================] - 0s 3ms/step - loss: 0.7800 - accuracy: 0.6674 - val_loss: 0.7844 - val_accuracy: 0.6688\n",
      "Epoch 31/100\n",
      "92/92 [==============================] - 0s 3ms/step - loss: 0.8323 - accuracy: 0.6717 - val_loss: 0.9508 - val_accuracy: 0.5844\n",
      "Epoch 32/100\n",
      "92/92 [==============================] - 0s 3ms/step - loss: 0.7868 - accuracy: 0.6717 - val_loss: 0.7611 - val_accuracy: 0.6688\n",
      "Epoch 33/100\n",
      "92/92 [==============================] - 0s 4ms/step - loss: 0.6639 - accuracy: 0.7065 - val_loss: 0.7104 - val_accuracy: 0.6558\n",
      "Epoch 34/100\n",
      "92/92 [==============================] - 0s 3ms/step - loss: 0.8055 - accuracy: 0.6739 - val_loss: 0.8421 - val_accuracy: 0.6623\n",
      "Epoch 35/100\n",
      "92/92 [==============================] - 0s 3ms/step - loss: 0.7955 - accuracy: 0.6891 - val_loss: 0.7007 - val_accuracy: 0.6818\n",
      "Epoch 36/100\n",
      "92/92 [==============================] - 0s 3ms/step - loss: 0.6232 - accuracy: 0.7304 - val_loss: 0.6695 - val_accuracy: 0.6688\n",
      "Epoch 37/100\n",
      "92/92 [==============================] - 0s 3ms/step - loss: 0.6315 - accuracy: 0.6978 - val_loss: 0.6455 - val_accuracy: 0.6883\n",
      "Epoch 38/100\n",
      "92/92 [==============================] - 0s 3ms/step - loss: 0.6216 - accuracy: 0.7239 - val_loss: 0.7385 - val_accuracy: 0.6753\n",
      "Epoch 39/100\n",
      "92/92 [==============================] - 0s 3ms/step - loss: 0.8872 - accuracy: 0.6543 - val_loss: 0.6519 - val_accuracy: 0.6883\n",
      "Epoch 40/100\n",
      "92/92 [==============================] - 0s 3ms/step - loss: 0.7180 - accuracy: 0.7217 - val_loss: 0.7498 - val_accuracy: 0.6494\n",
      "Epoch 41/100\n",
      "92/92 [==============================] - 0s 3ms/step - loss: 0.6625 - accuracy: 0.7326 - val_loss: 0.6414 - val_accuracy: 0.6623\n",
      "Epoch 42/100\n",
      "92/92 [==============================] - 0s 3ms/step - loss: 0.7280 - accuracy: 0.7130 - val_loss: 0.8147 - val_accuracy: 0.6623\n",
      "Epoch 43/100\n",
      "92/92 [==============================] - 0s 3ms/step - loss: 0.6057 - accuracy: 0.7217 - val_loss: 0.6372 - val_accuracy: 0.6688\n",
      "Epoch 44/100\n",
      "92/92 [==============================] - 0s 3ms/step - loss: 0.7057 - accuracy: 0.6935 - val_loss: 0.8153 - val_accuracy: 0.6753\n",
      "Epoch 45/100\n",
      "92/92 [==============================] - 0s 3ms/step - loss: 0.7941 - accuracy: 0.6696 - val_loss: 0.6620 - val_accuracy: 0.6948\n",
      "Epoch 46/100\n",
      "92/92 [==============================] - 0s 3ms/step - loss: 0.6105 - accuracy: 0.7261 - val_loss: 0.6262 - val_accuracy: 0.6948\n",
      "Epoch 47/100\n",
      "92/92 [==============================] - 0s 3ms/step - loss: 0.9193 - accuracy: 0.6587 - val_loss: 0.6407 - val_accuracy: 0.6688\n",
      "Epoch 48/100\n",
      "92/92 [==============================] - 0s 3ms/step - loss: 0.7175 - accuracy: 0.7043 - val_loss: 0.7097 - val_accuracy: 0.6753\n",
      "Epoch 49/100\n",
      "92/92 [==============================] - 0s 3ms/step - loss: 0.6176 - accuracy: 0.7348 - val_loss: 0.7148 - val_accuracy: 0.6104\n",
      "Epoch 50/100\n",
      "92/92 [==============================] - 0s 3ms/step - loss: 0.6250 - accuracy: 0.7261 - val_loss: 0.6539 - val_accuracy: 0.6623\n",
      "Epoch 51/100\n",
      "92/92 [==============================] - 0s 3ms/step - loss: 0.6250 - accuracy: 0.7217 - val_loss: 0.8559 - val_accuracy: 0.5649\n",
      "Epoch 52/100\n",
      "92/92 [==============================] - 0s 3ms/step - loss: 0.6123 - accuracy: 0.7043 - val_loss: 0.5892 - val_accuracy: 0.7078\n",
      "Epoch 53/100\n",
      "92/92 [==============================] - 0s 3ms/step - loss: 0.6565 - accuracy: 0.6913 - val_loss: 0.6982 - val_accuracy: 0.6623\n",
      "Epoch 54/100\n",
      "92/92 [==============================] - 0s 3ms/step - loss: 0.6832 - accuracy: 0.6913 - val_loss: 0.8548 - val_accuracy: 0.5909\n",
      "Epoch 55/100\n",
      "92/92 [==============================] - 0s 3ms/step - loss: 0.6860 - accuracy: 0.6891 - val_loss: 0.6159 - val_accuracy: 0.7078\n",
      "Epoch 56/100\n",
      "92/92 [==============================] - 0s 3ms/step - loss: 0.5509 - accuracy: 0.7304 - val_loss: 0.6195 - val_accuracy: 0.6688\n",
      "Epoch 57/100\n",
      "92/92 [==============================] - 0s 3ms/step - loss: 0.7438 - accuracy: 0.6609 - val_loss: 0.6162 - val_accuracy: 0.6883\n",
      "Epoch 58/100\n",
      "92/92 [==============================] - 0s 3ms/step - loss: 0.6103 - accuracy: 0.7283 - val_loss: 0.5847 - val_accuracy: 0.7143\n"
     ]
    },
    {
     "name": "stdout",
     "output_type": "stream",
     "text": [
      "Epoch 59/100\n",
      "92/92 [==============================] - 0s 3ms/step - loss: 0.6446 - accuracy: 0.7000 - val_loss: 0.6016 - val_accuracy: 0.7013\n",
      "Epoch 60/100\n",
      "92/92 [==============================] - 0s 3ms/step - loss: 0.6494 - accuracy: 0.7022 - val_loss: 0.5858 - val_accuracy: 0.7013\n",
      "Epoch 61/100\n",
      "92/92 [==============================] - 0s 3ms/step - loss: 0.6180 - accuracy: 0.7196 - val_loss: 0.5749 - val_accuracy: 0.6883\n",
      "Epoch 62/100\n",
      "92/92 [==============================] - 0s 3ms/step - loss: 0.6398 - accuracy: 0.7261 - val_loss: 1.0612 - val_accuracy: 0.6429\n",
      "Epoch 63/100\n",
      "92/92 [==============================] - 0s 3ms/step - loss: 0.6714 - accuracy: 0.7109 - val_loss: 0.6168 - val_accuracy: 0.7078\n",
      "Epoch 64/100\n",
      "92/92 [==============================] - 0s 3ms/step - loss: 0.7020 - accuracy: 0.7326 - val_loss: 0.7447 - val_accuracy: 0.6818\n",
      "Epoch 65/100\n",
      "92/92 [==============================] - 0s 3ms/step - loss: 0.5601 - accuracy: 0.7283 - val_loss: 0.6212 - val_accuracy: 0.7078\n",
      "Epoch 66/100\n",
      "92/92 [==============================] - 0s 3ms/step - loss: 0.5815 - accuracy: 0.7196 - val_loss: 0.6543 - val_accuracy: 0.6623\n",
      "Epoch 67/100\n",
      "92/92 [==============================] - 0s 3ms/step - loss: 0.5673 - accuracy: 0.7522 - val_loss: 0.5735 - val_accuracy: 0.7143\n",
      "Epoch 68/100\n",
      "92/92 [==============================] - 0s 3ms/step - loss: 0.5782 - accuracy: 0.7261 - val_loss: 0.5674 - val_accuracy: 0.7338\n",
      "Epoch 69/100\n",
      "92/92 [==============================] - 0s 3ms/step - loss: 0.5798 - accuracy: 0.7174 - val_loss: 0.9149 - val_accuracy: 0.5779\n",
      "Epoch 70/100\n",
      "92/92 [==============================] - 0s 3ms/step - loss: 0.7385 - accuracy: 0.6783 - val_loss: 0.6505 - val_accuracy: 0.6948\n",
      "Epoch 71/100\n",
      "92/92 [==============================] - 0s 3ms/step - loss: 0.5590 - accuracy: 0.7174 - val_loss: 0.6463 - val_accuracy: 0.6948\n",
      "Epoch 72/100\n",
      "92/92 [==============================] - 0s 4ms/step - loss: 0.6659 - accuracy: 0.7130 - val_loss: 0.6977 - val_accuracy: 0.6688\n",
      "Epoch 73/100\n",
      "92/92 [==============================] - 0s 3ms/step - loss: 0.5641 - accuracy: 0.7391 - val_loss: 0.5837 - val_accuracy: 0.6753\n",
      "Epoch 74/100\n",
      "92/92 [==============================] - 0s 3ms/step - loss: 0.5947 - accuracy: 0.7196 - val_loss: 0.6563 - val_accuracy: 0.7013\n",
      "Epoch 75/100\n",
      "92/92 [==============================] - 0s 3ms/step - loss: 0.5582 - accuracy: 0.7283 - val_loss: 0.6095 - val_accuracy: 0.6818\n",
      "Epoch 76/100\n",
      "92/92 [==============================] - 0s 3ms/step - loss: 0.5673 - accuracy: 0.7435 - val_loss: 0.5810 - val_accuracy: 0.6623\n",
      "Epoch 77/100\n",
      "92/92 [==============================] - 0s 3ms/step - loss: 0.5427 - accuracy: 0.7543 - val_loss: 0.6131 - val_accuracy: 0.6688\n",
      "Epoch 78/100\n",
      "92/92 [==============================] - 0s 3ms/step - loss: 0.5471 - accuracy: 0.7283 - val_loss: 0.5851 - val_accuracy: 0.6948\n",
      "Epoch 79/100\n",
      "92/92 [==============================] - 0s 3ms/step - loss: 0.6102 - accuracy: 0.7239 - val_loss: 1.1219 - val_accuracy: 0.5455\n",
      "Epoch 80/100\n",
      "92/92 [==============================] - 0s 3ms/step - loss: 0.6952 - accuracy: 0.7196 - val_loss: 0.6546 - val_accuracy: 0.6818\n",
      "Epoch 81/100\n",
      "92/92 [==============================] - 0s 3ms/step - loss: 0.7531 - accuracy: 0.7043 - val_loss: 0.5535 - val_accuracy: 0.7338\n",
      "Epoch 82/100\n",
      "92/92 [==============================] - 0s 3ms/step - loss: 0.5475 - accuracy: 0.7478 - val_loss: 0.5495 - val_accuracy: 0.7208\n",
      "Epoch 83/100\n",
      "92/92 [==============================] - 0s 3ms/step - loss: 0.7222 - accuracy: 0.7261 - val_loss: 0.5517 - val_accuracy: 0.7013\n",
      "Epoch 84/100\n",
      "92/92 [==============================] - 0s 3ms/step - loss: 0.5540 - accuracy: 0.7239 - val_loss: 0.5989 - val_accuracy: 0.7143\n",
      "Epoch 85/100\n",
      "92/92 [==============================] - 0s 3ms/step - loss: 0.5084 - accuracy: 0.7587 - val_loss: 0.5959 - val_accuracy: 0.7078\n",
      "Epoch 86/100\n",
      "92/92 [==============================] - 0s 3ms/step - loss: 0.5432 - accuracy: 0.7413 - val_loss: 0.5593 - val_accuracy: 0.7273\n",
      "Epoch 87/100\n",
      "92/92 [==============================] - 0s 3ms/step - loss: 0.5410 - accuracy: 0.7587 - val_loss: 0.6369 - val_accuracy: 0.6883\n",
      "Epoch 88/100\n",
      "92/92 [==============================] - 0s 3ms/step - loss: 0.5469 - accuracy: 0.7348 - val_loss: 0.5976 - val_accuracy: 0.7143\n",
      "Epoch 89/100\n",
      "92/92 [==============================] - 0s 3ms/step - loss: 0.5465 - accuracy: 0.7457 - val_loss: 0.9035 - val_accuracy: 0.6688\n",
      "Epoch 90/100\n",
      "92/92 [==============================] - 0s 3ms/step - loss: 0.6156 - accuracy: 0.7435 - val_loss: 0.5377 - val_accuracy: 0.7273\n",
      "Epoch 91/100\n",
      "92/92 [==============================] - 0s 3ms/step - loss: 0.5472 - accuracy: 0.7326 - val_loss: 0.5471 - val_accuracy: 0.7338\n",
      "Epoch 92/100\n",
      "92/92 [==============================] - 0s 3ms/step - loss: 0.5890 - accuracy: 0.7304 - val_loss: 0.5354 - val_accuracy: 0.7338\n",
      "Epoch 93/100\n",
      "92/92 [==============================] - 0s 3ms/step - loss: 0.5727 - accuracy: 0.7457 - val_loss: 0.5811 - val_accuracy: 0.7078\n",
      "Epoch 94/100\n",
      "92/92 [==============================] - 0s 3ms/step - loss: 0.5915 - accuracy: 0.7283 - val_loss: 0.5488 - val_accuracy: 0.7273\n",
      "Epoch 95/100\n",
      "92/92 [==============================] - 0s 3ms/step - loss: 0.6084 - accuracy: 0.7087 - val_loss: 0.5594 - val_accuracy: 0.7208\n",
      "Epoch 96/100\n",
      "92/92 [==============================] - 0s 3ms/step - loss: 0.5595 - accuracy: 0.7370 - val_loss: 0.6878 - val_accuracy: 0.6883\n",
      "Epoch 97/100\n",
      "92/92 [==============================] - 0s 3ms/step - loss: 0.5829 - accuracy: 0.7326 - val_loss: 0.5635 - val_accuracy: 0.7273\n",
      "Epoch 98/100\n",
      "92/92 [==============================] - 0s 3ms/step - loss: 0.5747 - accuracy: 0.7391 - val_loss: 0.5875 - val_accuracy: 0.7208\n",
      "Epoch 99/100\n",
      "92/92 [==============================] - 0s 3ms/step - loss: 0.5621 - accuracy: 0.7370 - val_loss: 0.5713 - val_accuracy: 0.6948\n",
      "Epoch 100/100\n",
      "92/92 [==============================] - 0s 3ms/step - loss: 0.5169 - accuracy: 0.7500 - val_loss: 0.6010 - val_accuracy: 0.7013\n"
     ]
    },
    {
     "data": {
      "text/plain": [
       "<keras.callbacks.History at 0x1ae15b6f730>"
      ]
     },
     "execution_count": 23,
     "metadata": {},
     "output_type": "execute_result"
    }
   ],
   "source": [
    "model.fit(X_train,y_train,batch_size = 5,epochs = 100,validation_data=(X_valid,y_valid))"
   ]
  },
  {
   "cell_type": "markdown",
   "id": "db6ba4e7",
   "metadata": {},
   "source": [
    "# Using Oversampling"
   ]
  },
  {
   "cell_type": "code",
   "execution_count": 24,
   "id": "75e9dd51",
   "metadata": {},
   "outputs": [],
   "source": [
    "from imblearn.over_sampling import RandomOverSampler"
   ]
  },
  {
   "cell_type": "code",
   "execution_count": 25,
   "id": "14186b9c",
   "metadata": {},
   "outputs": [],
   "source": [
    "over = RandomOverSampler()"
   ]
  },
  {
   "cell_type": "code",
   "execution_count": 27,
   "id": "5b14a8bc",
   "metadata": {},
   "outputs": [],
   "source": [
    "X = df[df.columns[:-1]].values\n",
    "y = df[df.columns[-1]].values"
   ]
  },
  {
   "cell_type": "code",
   "execution_count": 28,
   "id": "e12f55a8",
   "metadata": {},
   "outputs": [],
   "source": [
    "X,y = over.fit_resample(X,y)"
   ]
  },
  {
   "cell_type": "code",
   "execution_count": 29,
   "id": "59990a50",
   "metadata": {},
   "outputs": [],
   "source": [
    "model = tf.keras.Sequential([\n",
    "    tf.keras.layers.Dense(16,activation='relu'),\n",
    "    tf.keras.layers.Dense(16,activation='relu'),\n",
    "    tf.keras.layers.Dense(1,activation='sigmoid')\n",
    "])\n",
    "model.compile(optimizer=tf.keras.optimizers.Adam(learning_rate=0.001),loss= tf.keras.losses.BinaryCrossentropy(),metrics=['accuracy'])"
   ]
  },
  {
   "cell_type": "code",
   "execution_count": 30,
   "id": "d85a19b3",
   "metadata": {
    "scrolled": false
   },
   "outputs": [
    {
     "name": "stdout",
     "output_type": "stream",
     "text": [
      "Epoch 1/100\n",
      "92/92 [==============================] - 1s 4ms/step - loss: 3.8216 - accuracy: 0.4348 - val_loss: 1.8092 - val_accuracy: 0.4740\n",
      "Epoch 2/100\n",
      "92/92 [==============================] - 0s 2ms/step - loss: 1.6431 - accuracy: 0.4804 - val_loss: 1.2587 - val_accuracy: 0.5260\n",
      "Epoch 3/100\n",
      "92/92 [==============================] - 0s 2ms/step - loss: 1.2372 - accuracy: 0.5435 - val_loss: 1.0277 - val_accuracy: 0.5130\n",
      "Epoch 4/100\n",
      "92/92 [==============================] - 0s 2ms/step - loss: 1.0288 - accuracy: 0.5630 - val_loss: 0.8103 - val_accuracy: 0.5325\n",
      "Epoch 5/100\n",
      "92/92 [==============================] - 0s 2ms/step - loss: 0.9039 - accuracy: 0.5435 - val_loss: 0.7527 - val_accuracy: 0.5519\n",
      "Epoch 6/100\n",
      "92/92 [==============================] - 0s 2ms/step - loss: 0.7853 - accuracy: 0.5848 - val_loss: 0.7207 - val_accuracy: 0.5844\n",
      "Epoch 7/100\n",
      "92/92 [==============================] - 0s 2ms/step - loss: 0.7433 - accuracy: 0.6087 - val_loss: 0.6853 - val_accuracy: 0.5714\n",
      "Epoch 8/100\n",
      "92/92 [==============================] - 0s 3ms/step - loss: 0.7292 - accuracy: 0.6413 - val_loss: 0.7621 - val_accuracy: 0.5909\n",
      "Epoch 9/100\n",
      "92/92 [==============================] - 0s 2ms/step - loss: 0.6892 - accuracy: 0.6500 - val_loss: 0.7522 - val_accuracy: 0.6558\n",
      "Epoch 10/100\n",
      "92/92 [==============================] - 0s 3ms/step - loss: 0.6826 - accuracy: 0.6326 - val_loss: 0.6822 - val_accuracy: 0.6494\n",
      "Epoch 11/100\n",
      "92/92 [==============================] - 0s 3ms/step - loss: 0.6880 - accuracy: 0.6478 - val_loss: 0.6288 - val_accuracy: 0.6688\n",
      "Epoch 12/100\n",
      "92/92 [==============================] - 0s 2ms/step - loss: 0.6462 - accuracy: 0.6522 - val_loss: 0.6713 - val_accuracy: 0.6688\n",
      "Epoch 13/100\n",
      "92/92 [==============================] - 0s 2ms/step - loss: 0.6477 - accuracy: 0.6543 - val_loss: 0.6393 - val_accuracy: 0.6299\n",
      "Epoch 14/100\n",
      "92/92 [==============================] - 0s 2ms/step - loss: 0.6352 - accuracy: 0.6674 - val_loss: 0.6093 - val_accuracy: 0.6364\n",
      "Epoch 15/100\n",
      "92/92 [==============================] - 0s 2ms/step - loss: 0.6271 - accuracy: 0.6652 - val_loss: 0.6621 - val_accuracy: 0.6234\n",
      "Epoch 16/100\n",
      "92/92 [==============================] - 0s 2ms/step - loss: 0.6066 - accuracy: 0.6674 - val_loss: 0.6330 - val_accuracy: 0.6299\n",
      "Epoch 17/100\n",
      "92/92 [==============================] - 0s 3ms/step - loss: 0.6206 - accuracy: 0.6826 - val_loss: 0.6289 - val_accuracy: 0.6688\n",
      "Epoch 18/100\n",
      "92/92 [==============================] - 0s 3ms/step - loss: 0.6096 - accuracy: 0.6478 - val_loss: 0.6129 - val_accuracy: 0.6688\n",
      "Epoch 19/100\n",
      "92/92 [==============================] - 0s 3ms/step - loss: 0.5989 - accuracy: 0.6891 - val_loss: 0.6395 - val_accuracy: 0.6429\n",
      "Epoch 20/100\n",
      "92/92 [==============================] - 0s 2ms/step - loss: 0.6162 - accuracy: 0.7000 - val_loss: 0.6263 - val_accuracy: 0.6299\n",
      "Epoch 21/100\n",
      "92/92 [==============================] - 0s 2ms/step - loss: 0.6207 - accuracy: 0.6783 - val_loss: 0.6392 - val_accuracy: 0.6753\n",
      "Epoch 22/100\n",
      "92/92 [==============================] - 0s 2ms/step - loss: 0.6333 - accuracy: 0.6739 - val_loss: 0.5932 - val_accuracy: 0.6883\n",
      "Epoch 23/100\n",
      "92/92 [==============================] - 0s 2ms/step - loss: 0.5917 - accuracy: 0.6957 - val_loss: 0.5865 - val_accuracy: 0.6883\n",
      "Epoch 24/100\n",
      "92/92 [==============================] - 0s 2ms/step - loss: 0.5665 - accuracy: 0.7065 - val_loss: 0.6659 - val_accuracy: 0.6818\n",
      "Epoch 25/100\n",
      "92/92 [==============================] - 0s 2ms/step - loss: 0.6163 - accuracy: 0.6826 - val_loss: 0.5652 - val_accuracy: 0.7143\n",
      "Epoch 26/100\n",
      "92/92 [==============================] - 0s 2ms/step - loss: 0.5755 - accuracy: 0.6957 - val_loss: 0.6865 - val_accuracy: 0.6494\n",
      "Epoch 27/100\n",
      "92/92 [==============================] - 0s 2ms/step - loss: 0.6035 - accuracy: 0.6870 - val_loss: 0.5861 - val_accuracy: 0.7013\n",
      "Epoch 28/100\n",
      "92/92 [==============================] - 0s 2ms/step - loss: 0.5502 - accuracy: 0.7326 - val_loss: 0.6400 - val_accuracy: 0.6623\n",
      "Epoch 29/100\n",
      "92/92 [==============================] - 0s 2ms/step - loss: 0.5789 - accuracy: 0.6957 - val_loss: 0.5917 - val_accuracy: 0.7013\n",
      "Epoch 30/100\n",
      "92/92 [==============================] - 0s 3ms/step - loss: 0.5768 - accuracy: 0.7152 - val_loss: 0.6041 - val_accuracy: 0.6948\n",
      "Epoch 31/100\n",
      "92/92 [==============================] - 0s 2ms/step - loss: 0.5915 - accuracy: 0.6978 - val_loss: 0.6423 - val_accuracy: 0.6753\n",
      "Epoch 32/100\n",
      "92/92 [==============================] - 0s 2ms/step - loss: 0.6022 - accuracy: 0.6935 - val_loss: 0.7609 - val_accuracy: 0.6558\n",
      "Epoch 33/100\n",
      "92/92 [==============================] - 0s 2ms/step - loss: 0.5870 - accuracy: 0.7065 - val_loss: 0.6175 - val_accuracy: 0.6688\n",
      "Epoch 34/100\n",
      "92/92 [==============================] - 0s 2ms/step - loss: 0.5480 - accuracy: 0.7261 - val_loss: 0.5918 - val_accuracy: 0.6818\n",
      "Epoch 35/100\n",
      "92/92 [==============================] - 0s 2ms/step - loss: 0.5786 - accuracy: 0.6891 - val_loss: 0.5655 - val_accuracy: 0.6818\n",
      "Epoch 36/100\n",
      "92/92 [==============================] - 0s 2ms/step - loss: 0.5605 - accuracy: 0.7217 - val_loss: 0.5784 - val_accuracy: 0.6818\n",
      "Epoch 37/100\n",
      "92/92 [==============================] - 0s 2ms/step - loss: 0.5636 - accuracy: 0.7130 - val_loss: 0.6102 - val_accuracy: 0.6883\n",
      "Epoch 38/100\n",
      "92/92 [==============================] - 0s 2ms/step - loss: 0.5518 - accuracy: 0.7196 - val_loss: 0.6506 - val_accuracy: 0.6753\n",
      "Epoch 39/100\n",
      "92/92 [==============================] - 0s 2ms/step - loss: 0.5528 - accuracy: 0.7283 - val_loss: 0.5616 - val_accuracy: 0.6948\n",
      "Epoch 40/100\n",
      "92/92 [==============================] - 0s 2ms/step - loss: 0.5400 - accuracy: 0.7326 - val_loss: 0.5930 - val_accuracy: 0.7143\n",
      "Epoch 41/100\n",
      "92/92 [==============================] - 0s 3ms/step - loss: 0.5690 - accuracy: 0.7283 - val_loss: 0.6457 - val_accuracy: 0.6753\n",
      "Epoch 42/100\n",
      "92/92 [==============================] - 0s 2ms/step - loss: 0.5315 - accuracy: 0.7652 - val_loss: 0.6027 - val_accuracy: 0.6688\n",
      "Epoch 43/100\n",
      "92/92 [==============================] - 0s 3ms/step - loss: 0.5487 - accuracy: 0.7239 - val_loss: 0.6150 - val_accuracy: 0.7013\n",
      "Epoch 44/100\n",
      "92/92 [==============================] - 0s 2ms/step - loss: 0.5468 - accuracy: 0.7217 - val_loss: 0.6018 - val_accuracy: 0.6753\n",
      "Epoch 45/100\n",
      "92/92 [==============================] - 0s 2ms/step - loss: 0.5303 - accuracy: 0.7348 - val_loss: 0.5654 - val_accuracy: 0.6948\n",
      "Epoch 46/100\n",
      "92/92 [==============================] - 0s 2ms/step - loss: 0.5340 - accuracy: 0.7435 - val_loss: 0.5777 - val_accuracy: 0.7143\n",
      "Epoch 47/100\n",
      "92/92 [==============================] - 0s 3ms/step - loss: 0.5512 - accuracy: 0.7087 - val_loss: 0.5679 - val_accuracy: 0.6883\n",
      "Epoch 48/100\n",
      "92/92 [==============================] - 0s 2ms/step - loss: 0.5453 - accuracy: 0.7348 - val_loss: 0.6342 - val_accuracy: 0.7013\n",
      "Epoch 49/100\n",
      "92/92 [==============================] - 0s 3ms/step - loss: 0.5487 - accuracy: 0.7283 - val_loss: 0.5889 - val_accuracy: 0.6948\n",
      "Epoch 50/100\n",
      "92/92 [==============================] - 0s 3ms/step - loss: 0.5369 - accuracy: 0.7391 - val_loss: 0.6394 - val_accuracy: 0.6688\n",
      "Epoch 51/100\n",
      "92/92 [==============================] - 0s 3ms/step - loss: 0.5305 - accuracy: 0.7674 - val_loss: 0.5864 - val_accuracy: 0.6883\n",
      "Epoch 52/100\n",
      "92/92 [==============================] - 0s 2ms/step - loss: 0.5314 - accuracy: 0.7391 - val_loss: 0.5756 - val_accuracy: 0.7208\n",
      "Epoch 53/100\n",
      "92/92 [==============================] - 0s 2ms/step - loss: 0.5596 - accuracy: 0.7370 - val_loss: 0.5941 - val_accuracy: 0.6948\n",
      "Epoch 54/100\n",
      "92/92 [==============================] - 0s 3ms/step - loss: 0.5234 - accuracy: 0.7522 - val_loss: 0.8526 - val_accuracy: 0.5649\n",
      "Epoch 55/100\n",
      "92/92 [==============================] - 0s 3ms/step - loss: 0.5719 - accuracy: 0.7022 - val_loss: 0.5546 - val_accuracy: 0.6818\n",
      "Epoch 56/100\n",
      "92/92 [==============================] - 0s 3ms/step - loss: 0.5280 - accuracy: 0.7457 - val_loss: 0.5803 - val_accuracy: 0.6753\n",
      "Epoch 57/100\n",
      "92/92 [==============================] - 0s 2ms/step - loss: 0.5218 - accuracy: 0.7435 - val_loss: 0.5919 - val_accuracy: 0.6948\n",
      "Epoch 58/100\n",
      "92/92 [==============================] - 0s 3ms/step - loss: 0.5615 - accuracy: 0.7348 - val_loss: 0.5728 - val_accuracy: 0.7143\n"
     ]
    },
    {
     "name": "stdout",
     "output_type": "stream",
     "text": [
      "Epoch 59/100\n",
      "92/92 [==============================] - 0s 3ms/step - loss: 0.5425 - accuracy: 0.7391 - val_loss: 0.6566 - val_accuracy: 0.6753\n",
      "Epoch 60/100\n",
      "92/92 [==============================] - 0s 2ms/step - loss: 0.5525 - accuracy: 0.7478 - val_loss: 0.6191 - val_accuracy: 0.6623\n",
      "Epoch 61/100\n",
      "92/92 [==============================] - 0s 2ms/step - loss: 0.5343 - accuracy: 0.7457 - val_loss: 0.5579 - val_accuracy: 0.7013\n",
      "Epoch 62/100\n",
      "92/92 [==============================] - 0s 3ms/step - loss: 0.5476 - accuracy: 0.7370 - val_loss: 0.5892 - val_accuracy: 0.6948\n",
      "Epoch 63/100\n",
      "92/92 [==============================] - 0s 2ms/step - loss: 0.5357 - accuracy: 0.7348 - val_loss: 0.5591 - val_accuracy: 0.6948\n",
      "Epoch 64/100\n",
      "92/92 [==============================] - 0s 2ms/step - loss: 0.5239 - accuracy: 0.7609 - val_loss: 0.5626 - val_accuracy: 0.6883\n",
      "Epoch 65/100\n",
      "92/92 [==============================] - 0s 3ms/step - loss: 0.5264 - accuracy: 0.7478 - val_loss: 0.5710 - val_accuracy: 0.6818\n",
      "Epoch 66/100\n",
      "92/92 [==============================] - 0s 3ms/step - loss: 0.5204 - accuracy: 0.7326 - val_loss: 0.5776 - val_accuracy: 0.7078\n",
      "Epoch 67/100\n",
      "92/92 [==============================] - 0s 2ms/step - loss: 0.5270 - accuracy: 0.7413 - val_loss: 0.5677 - val_accuracy: 0.7532\n",
      "Epoch 68/100\n",
      "92/92 [==============================] - 0s 3ms/step - loss: 0.4981 - accuracy: 0.7652 - val_loss: 0.5421 - val_accuracy: 0.6948\n",
      "Epoch 69/100\n",
      "92/92 [==============================] - 0s 3ms/step - loss: 0.5149 - accuracy: 0.7413 - val_loss: 0.5746 - val_accuracy: 0.6818\n",
      "Epoch 70/100\n",
      "92/92 [==============================] - 0s 2ms/step - loss: 0.5347 - accuracy: 0.7457 - val_loss: 0.5862 - val_accuracy: 0.6818\n",
      "Epoch 71/100\n",
      "92/92 [==============================] - 0s 2ms/step - loss: 0.5607 - accuracy: 0.7043 - val_loss: 0.5504 - val_accuracy: 0.7078\n",
      "Epoch 72/100\n",
      "92/92 [==============================] - 0s 3ms/step - loss: 0.5351 - accuracy: 0.7152 - val_loss: 0.6554 - val_accuracy: 0.6948\n",
      "Epoch 73/100\n",
      "92/92 [==============================] - 0s 3ms/step - loss: 0.5295 - accuracy: 0.7152 - val_loss: 0.5465 - val_accuracy: 0.7078\n",
      "Epoch 74/100\n",
      "92/92 [==============================] - 0s 2ms/step - loss: 0.5120 - accuracy: 0.7413 - val_loss: 0.5278 - val_accuracy: 0.7403\n",
      "Epoch 75/100\n",
      "92/92 [==============================] - 0s 2ms/step - loss: 0.5369 - accuracy: 0.7348 - val_loss: 0.5667 - val_accuracy: 0.7143\n",
      "Epoch 76/100\n",
      "92/92 [==============================] - 0s 3ms/step - loss: 0.5107 - accuracy: 0.7435 - val_loss: 0.5495 - val_accuracy: 0.6948\n",
      "Epoch 77/100\n",
      "92/92 [==============================] - 0s 2ms/step - loss: 0.5153 - accuracy: 0.7391 - val_loss: 0.5893 - val_accuracy: 0.6883\n",
      "Epoch 78/100\n",
      "92/92 [==============================] - 0s 2ms/step - loss: 0.5168 - accuracy: 0.7239 - val_loss: 0.5691 - val_accuracy: 0.7013\n",
      "Epoch 79/100\n",
      "92/92 [==============================] - 0s 3ms/step - loss: 0.5385 - accuracy: 0.7348 - val_loss: 0.5680 - val_accuracy: 0.7013\n",
      "Epoch 80/100\n",
      "92/92 [==============================] - 0s 3ms/step - loss: 0.4974 - accuracy: 0.7587 - val_loss: 0.5642 - val_accuracy: 0.6883\n",
      "Epoch 81/100\n",
      "92/92 [==============================] - 0s 2ms/step - loss: 0.5099 - accuracy: 0.7543 - val_loss: 0.5585 - val_accuracy: 0.7143\n",
      "Epoch 82/100\n",
      "92/92 [==============================] - 0s 3ms/step - loss: 0.5012 - accuracy: 0.7587 - val_loss: 0.5570 - val_accuracy: 0.7273\n",
      "Epoch 83/100\n",
      "92/92 [==============================] - 0s 3ms/step - loss: 0.5064 - accuracy: 0.7500 - val_loss: 0.5548 - val_accuracy: 0.7273\n",
      "Epoch 84/100\n",
      "92/92 [==============================] - 0s 2ms/step - loss: 0.5037 - accuracy: 0.7522 - val_loss: 0.5814 - val_accuracy: 0.7143\n",
      "Epoch 85/100\n",
      "92/92 [==============================] - 0s 3ms/step - loss: 0.5301 - accuracy: 0.7435 - val_loss: 0.5612 - val_accuracy: 0.7078\n",
      "Epoch 86/100\n",
      "92/92 [==============================] - 0s 3ms/step - loss: 0.4861 - accuracy: 0.7783 - val_loss: 0.5520 - val_accuracy: 0.6948\n",
      "Epoch 87/100\n",
      "92/92 [==============================] - 0s 2ms/step - loss: 0.5181 - accuracy: 0.7630 - val_loss: 0.5543 - val_accuracy: 0.7208\n",
      "Epoch 88/100\n",
      "92/92 [==============================] - 0s 3ms/step - loss: 0.4935 - accuracy: 0.7674 - val_loss: 0.5473 - val_accuracy: 0.6818\n",
      "Epoch 89/100\n",
      "92/92 [==============================] - 0s 2ms/step - loss: 0.5039 - accuracy: 0.7783 - val_loss: 0.5525 - val_accuracy: 0.7143\n",
      "Epoch 90/100\n",
      "92/92 [==============================] - 0s 2ms/step - loss: 0.4925 - accuracy: 0.7500 - val_loss: 0.5674 - val_accuracy: 0.6948\n",
      "Epoch 91/100\n",
      "92/92 [==============================] - 0s 2ms/step - loss: 0.4964 - accuracy: 0.7500 - val_loss: 0.5771 - val_accuracy: 0.6753\n",
      "Epoch 92/100\n",
      "92/92 [==============================] - 0s 2ms/step - loss: 0.5262 - accuracy: 0.7478 - val_loss: 0.5907 - val_accuracy: 0.7208\n",
      "Epoch 93/100\n",
      "92/92 [==============================] - 0s 2ms/step - loss: 0.5052 - accuracy: 0.7500 - val_loss: 0.5898 - val_accuracy: 0.6818\n",
      "Epoch 94/100\n",
      "92/92 [==============================] - 0s 3ms/step - loss: 0.4885 - accuracy: 0.7696 - val_loss: 0.5614 - val_accuracy: 0.7208\n",
      "Epoch 95/100\n",
      "92/92 [==============================] - 0s 3ms/step - loss: 0.5119 - accuracy: 0.7413 - val_loss: 0.5601 - val_accuracy: 0.6818\n",
      "Epoch 96/100\n",
      "92/92 [==============================] - 0s 3ms/step - loss: 0.5045 - accuracy: 0.7435 - val_loss: 0.5647 - val_accuracy: 0.6948\n",
      "Epoch 97/100\n",
      "92/92 [==============================] - 0s 3ms/step - loss: 0.5311 - accuracy: 0.7370 - val_loss: 0.5627 - val_accuracy: 0.6818\n",
      "Epoch 98/100\n",
      "92/92 [==============================] - 0s 3ms/step - loss: 0.4989 - accuracy: 0.7630 - val_loss: 0.5428 - val_accuracy: 0.7532\n",
      "Epoch 99/100\n",
      "92/92 [==============================] - 0s 3ms/step - loss: 0.4821 - accuracy: 0.7587 - val_loss: 0.5534 - val_accuracy: 0.7273\n",
      "Epoch 100/100\n",
      "92/92 [==============================] - 0s 3ms/step - loss: 0.5011 - accuracy: 0.7478 - val_loss: 0.5437 - val_accuracy: 0.7273\n"
     ]
    },
    {
     "data": {
      "text/plain": [
       "<keras.callbacks.History at 0x1ae25d08940>"
      ]
     },
     "execution_count": 30,
     "metadata": {},
     "output_type": "execute_result"
    }
   ],
   "source": [
    "model.fit(X_train,y_train,batch_size = 5,epochs = 100,validation_data=(X_valid,y_valid))"
   ]
  },
  {
   "cell_type": "code",
   "execution_count": null,
   "id": "95fb8847",
   "metadata": {},
   "outputs": [],
   "source": []
  }
 ],
 "metadata": {
  "kernelspec": {
   "display_name": "Python 3 (ipykernel)",
   "language": "python",
   "name": "python3"
  },
  "language_info": {
   "codemirror_mode": {
    "name": "ipython",
    "version": 3
   },
   "file_extension": ".py",
   "mimetype": "text/x-python",
   "name": "python",
   "nbconvert_exporter": "python",
   "pygments_lexer": "ipython3",
   "version": "3.9.7"
  }
 },
 "nbformat": 4,
 "nbformat_minor": 5
}
